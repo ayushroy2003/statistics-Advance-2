{
 "cells": [
  {
   "cell_type": "markdown",
   "id": "c1da3df1-ca0a-4b5d-9f79-0b12fd9b6e08",
   "metadata": {},
   "source": [
    "Q1: What are the Probability Mass Function (PMF) and Probability Density Function (PDF)? Explain with\n",
    "an example.\n",
    "\n",
    "Ans- PMF (probability mass function)\n",
    "\n",
    "- Definition: Gives the probability of a discrete random variable taking on a specific value \n",
    "\n",
    "- Example: Rolling a fair six sided die. The PMF is P(X = x) = 1/6 for x=1,2,3,4,5,6\n",
    "\n",
    "\n",
    "PDF( Probability Density Function)\n",
    "\n",
    "- Defination: Describe the probability density of a continuous random variable. The probability for a specific value is 0 ; probabilities are found over intervals\n",
    "\n",
    "- Example : Height of people following a normal distribution . The PDF is used to calculate the probability over an interval , like finding the probability that height is between 160cm and 180 cm"
   ]
  },
  {
   "cell_type": "markdown",
   "id": "1da5d73f-3178-4dac-973e-8deeb76f02bf",
   "metadata": {},
   "source": [
    "Q2: What is Cumulative Density Function (CDF)? Explain with an example. Why CDF is used?\n",
    "\n",
    "ANs - CDF (Cumulative Distribution Function)\n",
    "The CDF tells  the probability that a random variable X is less than or equal to a certain value \n",
    "\n",
    "Example :\n",
    "\n",
    "for a six sided die:\n",
    "- The probability of rolling 3 or less: P(X≤3) = 3/6 = 0.5\n",
    "\n",
    "Why is CDF Useful ?\n",
    "\n",
    "- Total Probability: it shows the probability up to a certain value\n",
    "\n",
    "- Interval Probability: It helps calculate the probability between two values\n"
   ]
  },
  {
   "cell_type": "markdown",
   "id": "e36f2e28-0764-43f3-8eeb-5d90472e2899",
   "metadata": {},
   "source": [
    "Q3: What are some examples of situations where the normal distribution might be used as a model?\n",
    "Explain how the parameters of the normal distribution relate to the shape of the distribution.\n",
    "\n",
    "Ans - \n",
    "\n",
    "Normal Distribution Examples\n",
    "\n",
    "- Height of people: Most height cluster around an average, with fewer very tall or short indiviiduals\n",
    "\n",
    "- Test Score : Most scores are near the average with fewer very high or low score \n",
    "\n",
    "- Measurements Errors : small error are common , while large errors are very rare \n",
    "\n",
    "Parameter and shape\n",
    "\n",
    "- Mean (μ): the center of the distribution\n",
    "\n",
    "- Standard Deviation (σ): Controls the spread \n",
    "\n",
    "- small (σ): Narrow, tall distribution\n",
    "- large(σ): wide , flat distribution\n",
    "\n",
    "mean and standard devation together define the shape of a normal distribution"
   ]
  },
  {
   "cell_type": "markdown",
   "id": "e86eb830-23a8-4032-a9f4-ab701557776d",
   "metadata": {},
   "source": [
    "Q4: Explain the importance of Normal Distribution. Give a few real-life examples of Normal\n",
    "Distribution. \n",
    "\n",
    "Ans - Importance of Normal Distribution\n",
    "\n",
    "- Symmetry: The normal distribution is symmetric around the mean,making it a good for many natural phenomena\n",
    "\n",
    "- Central Limit Theorem : This theorem allows many different types of data to be approsximated by a normal distribution\n",
    "\n",
    "- Statistcal Methods : Many statistical tests and methods assume normal distribution, making it fundamental in statistics \n",
    "\n",
    "- Predictive Modeling : It is widely used in data analysis and machine learning \n",
    "\n",
    "Real Life Examples \n",
    "\n",
    "- Height of peolple : Most people have an averge height , with fewer being very short or very tall \n",
    "\n",
    "- Test Scores : Standardized test scores often form a normal distribution \n",
    "\n",
    "- Measurement Errors : Repeated measurement typically shows errors that follow a normal distribution \n",
    "\n",
    "- IQ score : IQ score are designed to follow a normal distribution \n",
    "\n",
    "- Blood Pressure : Blood pressure reading in a population ususally follow a normal distribution "
   ]
  },
  {
   "cell_type": "markdown",
   "id": "7f27d2fb-e287-47b2-9603-7a3d3447bcfc",
   "metadata": {},
   "source": [
    "Q5: What is Bernaulli Distribution? Give an Example. What is the difference between Bernoulli\n",
    "Distribution and Binomial Distribution?\n",
    "\n",
    "Ans - Bernoulli Disribution \n",
    "\n",
    "- Models a single trial with  two outcomes: success (1) with  probability p and failure (0) with probability 1-p\n",
    "\n",
    "Example : Flipping a coin (heads = 1 , tails = 0)\n",
    "\n",
    "Bionomial Distribution \n",
    "\n",
    "- Models the number of successes in multiple independent Bernoulli trials\n",
    "\n",
    "- Parameter : n (number of trials) and p (probability of success per trial)\n",
    "\n",
    "Example : Counting the number of heads in 10 coin flip\n",
    "\n",
    "DIFFERENCE \n",
    "\n",
    "- Bernoulli : One trial \n",
    "\n",
    "- Binomial : Multiple trials, summing up the of Bernoulli trials "
   ]
  },
  {
   "cell_type": "markdown",
   "id": "66127f8f-abfd-4ca9-ae2b-1c1421dc79c2",
   "metadata": {},
   "source": [
    "Q6. Consider a dataset with a mean of 50 and a standard deviation of 10. If we assume that the dataset\n",
    "is normally distributed, what is the probability that a randomly selected observation will be greater\n",
    "than 60? Use the appropriate formula and show your calculations.\n",
    "\n",
    "Ans - \n",
    "\n"
   ]
  },
  {
   "cell_type": "markdown",
   "id": "0c330aef-5e95-40be-8e6d-34596c18add6",
   "metadata": {},
   "source": [
    "we can zscore and z table to solve this question\n",
    "\n",
    "mean = 50\n",
    "standard deviation = 10\n",
    "x = 60\n",
    "\n",
    "z score formula  = x - mean/standard deviation\n",
    "                 = 60-50/10\n",
    "                 = 1 \n",
    "                 \n",
    "                 \n",
    "                 \n",
    "now using z table  z score  = \n",
    "                            =  1 = 0.84134\n",
    "                            \n",
    "                            \n",
    "                            \n",
    "area under the curve ( <60)\n",
    "                    =  1 - 0.84134\n",
    "                    = 0.15866\n",
    "                    = 15.866 %\n",
    "                    \n",
    "                    \n",
    "                    \n",
    "probability of random selected oberservation greter than 60 is 15.866%"
   ]
  },
  {
   "cell_type": "markdown",
   "id": "4e66cb86-d566-4360-9048-8e63fbd3aebd",
   "metadata": {},
   "source": [
    "Q7: Explain uniform Distribution with an example.\n",
    "\n",
    "Ans - Uniform Distribution \n",
    "\n",
    "The uniform distribution is where all outcomes are equaly likely within a given range \n",
    "\n",
    "CONTINUOUS UNIFORM DISTRIBUTION\n",
    "\n",
    "- Range : [a,b]\n",
    "- Example : Randomally picking a number between 0 and 10. Each number has an equal probability \n",
    "\n",
    "DISCRETE UNIFORM DISTRIBUTION\n",
    "\n",
    "- Range : A finite set of outcomes\n",
    "- Example : Rolling a fair six sided die, where each outcome (1-6) has an equal chance \n"
   ]
  },
  {
   "cell_type": "markdown",
   "id": "5ba587ea-0123-43ce-916b-1b9a395a76eb",
   "metadata": {},
   "source": [
    "Q8: What is the z score? State the importance of the z score\n",
    "Ans - the Z score ( or standard score) measures how many standard deviation an individual data point is from the mean of a dataset\n",
    "\n",
    "IMPORTANCE OF THE Z SCORE \n",
    "- Standardization : Converts different data distribution to a common scale, making it easier to compare data from different source \n",
    "\n",
    "- Outlier Detection : Identifies outliers. A high or low Z score (e.g., greater than 2 or less than -2) suggests that the data points is unusual compared to the rest of the data \n",
    "\n",
    "- Probability Calculation : Helps in finding the probability of a data point occuring within a normal distribution  ,using the standard normal distributiion table\n",
    "\n",
    "- Statistical Significance : Used in hypothesis testing to determine if a result is statistical significant\n"
   ]
  },
  {
   "cell_type": "markdown",
   "id": "930a5860-8f7b-49d5-9f7a-10ee05ca3152",
   "metadata": {},
   "source": [
    "Q9: What is Central Limit Theorem? State the significance of the Central Limit Theorem.\n",
    "\n",
    "Ans - The central limit theorem stats that the distribution of the sample mean approaches a normal distribution as the sample size become large , regardless of the population distribution \n",
    "\n",
    "SIGNIFICANCE \n",
    "\n",
    "- Normal Approximation : Allows using normal distribution for sample means even if the population isn't normal \n",
    "\n",
    "- Statistical Methods : Supports the use of normal based methods for inferences , confidence  intervals , and hypothesis testing "
   ]
  },
  {
   "cell_type": "markdown",
   "id": "ef88cd1f-e48a-4267-b0ff-a1503ce7491a",
   "metadata": {},
   "source": [
    "Q10: State the assumptions of the Central Limit Theorem\n",
    "\n",
    "Ans - \n",
    "\n",
    "- Independence : The sampled observation must be independent of each other \n",
    "\n",
    "- Identicaly Distributed : The observation should be drawn from the same probability distribution with the same parameter \n",
    "\n",
    "- Sample size : The sample size should be sufficently large. Although  there is no strict number , a comon guideline is n≥30."
   ]
  },
  {
   "cell_type": "code",
   "execution_count": null,
   "id": "5f12251d-3a2e-41bf-96a2-b36b9c88960c",
   "metadata": {},
   "outputs": [],
   "source": []
  }
 ],
 "metadata": {
  "kernelspec": {
   "display_name": "Python 3 (ipykernel)",
   "language": "python",
   "name": "python3"
  },
  "language_info": {
   "codemirror_mode": {
    "name": "ipython",
    "version": 3
   },
   "file_extension": ".py",
   "mimetype": "text/x-python",
   "name": "python",
   "nbconvert_exporter": "python",
   "pygments_lexer": "ipython3",
   "version": "3.10.8"
  }
 },
 "nbformat": 4,
 "nbformat_minor": 5
}
